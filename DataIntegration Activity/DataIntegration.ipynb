{
  "nbformat": 4,
  "nbformat_minor": 0,
  "metadata": {
    "colab": {
      "name": "integrate.ipynb",
      "provenance": [],
      "collapsed_sections": []
    },
    "kernelspec": {
      "name": "python3",
      "display_name": "Python 3"
    }
  },
  "cells": [
    {
      "cell_type": "markdown",
      "metadata": {
        "id": "view-in-github"
      },
      "source": [
        "<a href=\"https://colab.research.google.com/github/Harievashini/Data-Engineering/blob/main/integrate.ipynb\" target=\"_parent\"><img src=\"https://colab.research.google.com/assets/colab-badge.svg\" alt=\"Open In Colab\"/></a>"
      ]
    },
    {
      "cell_type": "code",
      "metadata": {
        "id": "pRW94rCoq6HT"
      },
      "source": [
        "import csv\n",
        "import pandas as pd\n",
        "import numpy as np \n",
        "import matplotlib.pyplot as plot\n",
        "import seaborn as sns"
      ],
      "execution_count": 1,
      "outputs": []
    },
    {
      "cell_type": "code",
      "metadata": {
        "id": "S5EsChKErAGJ",
        "colab": {
          "base_uri": "https://localhost:8080/"
        },
        "outputId": "63331d85-24ec-48e5-f565-9d976240d255"
      },
      "source": [
        "from google.colab import drive\n",
        "drive.mount('/content/drive/')"
      ],
      "execution_count": 3,
      "outputs": [
        {
          "output_type": "stream",
          "text": [
            "Mounted at /content/drive/\n"
          ],
          "name": "stdout"
        }
      ]
    },
    {
      "cell_type": "code",
      "metadata": {
        "colab": {
          "base_uri": "https://localhost:8080/"
        },
        "id": "yA44bdEiSM8u",
        "outputId": "7531fd17-8f29-42f5-b400-b6b5f344153b"
      },
      "source": [
        "data1= pd.read_csv('/content/drive/My Drive/Colab Notebooks/COVID_county_data.csv')\n",
        "print(data1)\n",
        "\n",
        "data2= pd.read_csv('/content/drive/My Drive/Colab Notebooks/acs2017_census_tract_data.csv')\n",
        "print(data2)\n"
      ],
      "execution_count": 4,
      "outputs": [
        {
          "output_type": "stream",
          "text": [
            "               date      county       state     fips  cases  deaths\n",
            "0        2020-01-21   Snohomish  Washington  53061.0      1     0.0\n",
            "1        2020-01-22   Snohomish  Washington  53061.0      1     0.0\n",
            "2        2020-01-23   Snohomish  Washington  53061.0      1     0.0\n",
            "3        2020-01-24        Cook    Illinois  17031.0      1     0.0\n",
            "4        2020-01-24   Snohomish  Washington  53061.0      1     0.0\n",
            "...             ...         ...         ...      ...    ...     ...\n",
            "1050253  2021-02-20  Sweetwater     Wyoming  56037.0   3645    34.0\n",
            "1050254  2021-02-20       Teton     Wyoming  56039.0   3318     9.0\n",
            "1050255  2021-02-20       Uinta     Wyoming  56041.0   2024    12.0\n",
            "1050256  2021-02-20    Washakie     Wyoming  56043.0    876    26.0\n",
            "1050257  2021-02-20      Weston     Wyoming  56045.0    619     5.0\n",
            "\n",
            "[1050258 rows x 6 columns]\n",
            "           TractId        State  ... FamilyWork  Unemployment\n",
            "0       1001020100      Alabama  ...        0.0           4.6\n",
            "1       1001020200      Alabama  ...        0.0           3.4\n",
            "2       1001020300      Alabama  ...        0.7           4.7\n",
            "3       1001020400      Alabama  ...        0.0           6.1\n",
            "4       1001020500      Alabama  ...        0.0           2.3\n",
            "...            ...          ...  ...        ...           ...\n",
            "73996  72153750501  Puerto Rico  ...        0.0          20.8\n",
            "73997  72153750502  Puerto Rico  ...        0.0          26.3\n",
            "73998  72153750503  Puerto Rico  ...        0.0          23.0\n",
            "73999  72153750601  Puerto Rico  ...        0.0          29.5\n",
            "74000  72153750602  Puerto Rico  ...        0.0          17.9\n",
            "\n",
            "[74001 rows x 37 columns]\n"
          ],
          "name": "stdout"
        }
      ]
    },
    {
      "cell_type": "code",
      "metadata": {
        "id": "euxzsahVXjy0"
      },
      "source": [
        "#PART A\n",
        "\n",
        "counties=[\"Loudoun\", \"Washington\", \"Harlan\", \"Malheur\"]\n",
        "state=[\"Virginia\", \"Oregon\", \"Kentucky\", \"Oregon\"]"
      ],
      "execution_count": 5,
      "outputs": []
    },
    {
      "cell_type": "code",
      "metadata": {
        "colab": {
          "base_uri": "https://localhost:8080/"
        },
        "id": "oim58R8BWj9O",
        "outputId": "912de945-2afc-4faf-ea01-e8321d730a7b"
      },
      "source": [
        "final=[]\n",
        "each=[]\n",
        "for j in range(len(counties)):\n",
        "  coun=data2[data2['County']==counties[j]+\" County\"]\n",
        "  county=coun[coun['State']==state[j]]\n",
        "\n",
        "  each.append(counties[j])\n",
        "  each.append(state[j])\n",
        "\n",
        "  #Total population\n",
        "  tp=county['TotalPop']\n",
        "  totpop=tp.sum(axis=0)\n",
        "  each.append(totpop)\n",
        "\n",
        "  #Poverty %\n",
        "  pov=county['Poverty']\n",
        "  poverty=pov.mean(axis=0)\n",
        "  each.append(poverty)\n",
        "\n",
        "  #Percapitaincome\n",
        "  income=county['IncomePerCap']\n",
        "  i=income.mean(axis=0)\n",
        "  each.append(i)\n",
        "  \n",
        "  final.append(each)\n",
        "  each=[]\n",
        "#print(final)\n",
        "\n",
        "df1=pd.DataFrame.from_records(final)\n",
        "df1.columns = ['County','State','Population','Poverty','PerCapitaIncome']\n",
        "print(df1)\n",
        "\n"
      ],
      "execution_count": 7,
      "outputs": [
        {
          "output_type": "stream",
          "text": [
            "       County     State  Population    Poverty  PerCapitaIncome\n",
            "0     Loudoun  Virginia      374558   3.884375     50391.015625\n",
            "1  Washington    Oregon      572071  10.446154     34970.817308\n",
            "2      Harlan  Kentucky       27548  33.318182     16010.363636\n",
            "3     Malheur    Oregon       30421  24.414286     17966.428571\n"
          ],
          "name": "stdout"
        }
      ]
    },
    {
      "cell_type": "code",
      "metadata": {
        "colab": {
          "base_uri": "https://localhost:8080/"
        },
        "id": "2xmHTaDW8YfJ",
        "outputId": "dffcc523-8a32-402c-92ec-d1746bf5eeb3"
      },
      "source": [
        "#PART B\n",
        "\n",
        "counties=[\"Loudoun\", \"Washington\", \"Harlan\", \"Malheur\"]\n",
        "state=[\"Virginia\", \"Oregon\", \"Kentucky\", \"Oregon\"]\n",
        "\n",
        "final=[]\n",
        "each=[]\n",
        "for j in range(len(counties)):\n",
        "  \n",
        "  coun1=data1[data1['county']==counties[j]]\n",
        "  county1=coun1[coun1['state']==state[j]]\n",
        "\n",
        "  each.append(counties[j])\n",
        "  each.append(state[j])\n",
        "  \n",
        "  #Totalcases\n",
        "  cas=county1['cases']\n",
        "  c=cas.sum(axis=0)\n",
        "  each.append(c)\n",
        "\n",
        "  #Dec2020cases\n",
        "  dec=county1[county1['date'].between(\"2020-12-01\",\"2020-12-31\")]\n",
        "  de=dec['cases']\n",
        "  d=de.sum(axis=0)\n",
        "  each.append(d)\n",
        "\n",
        "  #TotalDeaths\n",
        "  dea=county1['deaths']\n",
        "  d=dea.sum(axis=0)\n",
        "  each.append(d)\n",
        "\n",
        "  #Dec2020deaths\n",
        "  dec=county1[county1['date'].between(\"2020-12-01\",\"2020-12-31\")]\n",
        "  de=dec['deaths']\n",
        "  d=de.sum(axis=0)\n",
        "  each.append(d)\n",
        "\n",
        "  final.append(each)\n",
        "  each=[]\n",
        "\n",
        "df2=pd.DataFrame.from_records(final)\n",
        "df2.columns = ['County','State', 'TotalCases','Dec2020Cases','TotalDeaths','Dec2020Deaths']\n",
        "print(df2)\n",
        "\n",
        "\n"
      ],
      "execution_count": 8,
      "outputs": [
        {
          "output_type": "stream",
          "text": [
            "       County     State  TotalCases  Dec2020Cases  TotalDeaths  Dec2020Deaths\n",
            "0     Loudoun  Virginia     2496450        376223      35820.0         4729.0\n",
            "1  Washington    Oregon     2157339        424620      22455.0         3860.0\n",
            "2      Harlan  Kentucky      205984         38959       3994.0          506.0\n",
            "3     Malheur    Oregon      453634         82916       7770.0         1465.0\n"
          ],
          "name": "stdout"
        }
      ]
    },
    {
      "cell_type": "code",
      "metadata": {
        "id": "urodB10ERvCm",
        "colab": {
          "base_uri": "https://localhost:8080/",
          "height": 308
        },
        "outputId": "ed3b8130-dc11-4311-c710-e844174c0666"
      },
      "source": [
        "#PART C\n",
        "\n",
        "final=[]\n",
        "each=[]\n",
        "df3 = pd.merge(df1,df2,on='County',how='inner')\n",
        "del df3['State_y']\n",
        "df3.rename(columns = {'State_x':'State'}, inplace = True) \n",
        "oregonstate = df3[df3['State']=='Oregon']\n",
        "oregonstate['TotalCases'] = (oregonstate['TotalCases']*100000)/oregonstate['Population']\n",
        "oregonstate['TotalDeaths'] = (oregonstate['TotalDeaths']*100000)/oregonstate['Population']\n",
        "oregonstate.head()\n"
      ],
      "execution_count": 9,
      "outputs": [
        {
          "output_type": "stream",
          "text": [
            "/usr/local/lib/python3.7/dist-packages/ipykernel_launcher.py:9: SettingWithCopyWarning: \n",
            "A value is trying to be set on a copy of a slice from a DataFrame.\n",
            "Try using .loc[row_indexer,col_indexer] = value instead\n",
            "\n",
            "See the caveats in the documentation: https://pandas.pydata.org/pandas-docs/stable/user_guide/indexing.html#returning-a-view-versus-a-copy\n",
            "  if __name__ == '__main__':\n",
            "/usr/local/lib/python3.7/dist-packages/ipykernel_launcher.py:10: SettingWithCopyWarning: \n",
            "A value is trying to be set on a copy of a slice from a DataFrame.\n",
            "Try using .loc[row_indexer,col_indexer] = value instead\n",
            "\n",
            "See the caveats in the documentation: https://pandas.pydata.org/pandas-docs/stable/user_guide/indexing.html#returning-a-view-versus-a-copy\n",
            "  # Remove the CWD from sys.path while we load stuff.\n"
          ],
          "name": "stderr"
        },
        {
          "output_type": "execute_result",
          "data": {
            "text/html": [
              "<div>\n",
              "<style scoped>\n",
              "    .dataframe tbody tr th:only-of-type {\n",
              "        vertical-align: middle;\n",
              "    }\n",
              "\n",
              "    .dataframe tbody tr th {\n",
              "        vertical-align: top;\n",
              "    }\n",
              "\n",
              "    .dataframe thead th {\n",
              "        text-align: right;\n",
              "    }\n",
              "</style>\n",
              "<table border=\"1\" class=\"dataframe\">\n",
              "  <thead>\n",
              "    <tr style=\"text-align: right;\">\n",
              "      <th></th>\n",
              "      <th>County</th>\n",
              "      <th>State</th>\n",
              "      <th>Population</th>\n",
              "      <th>Poverty</th>\n",
              "      <th>PerCapitaIncome</th>\n",
              "      <th>TotalCases</th>\n",
              "      <th>Dec2020Cases</th>\n",
              "      <th>TotalDeaths</th>\n",
              "      <th>Dec2020Deaths</th>\n",
              "    </tr>\n",
              "  </thead>\n",
              "  <tbody>\n",
              "    <tr>\n",
              "      <th>1</th>\n",
              "      <td>Washington</td>\n",
              "      <td>Oregon</td>\n",
              "      <td>572071</td>\n",
              "      <td>10.446154</td>\n",
              "      <td>34970.817308</td>\n",
              "      <td>3.771104e+05</td>\n",
              "      <td>424620</td>\n",
              "      <td>3925.212080</td>\n",
              "      <td>3860.0</td>\n",
              "    </tr>\n",
              "    <tr>\n",
              "      <th>3</th>\n",
              "      <td>Malheur</td>\n",
              "      <td>Oregon</td>\n",
              "      <td>30421</td>\n",
              "      <td>24.414286</td>\n",
              "      <td>17966.428571</td>\n",
              "      <td>1.491187e+06</td>\n",
              "      <td>82916</td>\n",
              "      <td>25541.566681</td>\n",
              "      <td>1465.0</td>\n",
              "    </tr>\n",
              "  </tbody>\n",
              "</table>\n",
              "</div>"
            ],
            "text/plain": [
              "       County   State  Population  ...  Dec2020Cases   TotalDeaths  Dec2020Deaths\n",
              "1  Washington  Oregon      572071  ...        424620   3925.212080         3860.0\n",
              "3     Malheur  Oregon       30421  ...         82916  25541.566681         1465.0\n",
              "\n",
              "[2 rows x 9 columns]"
            ]
          },
          "metadata": {
            "tags": []
          },
          "execution_count": 9
        }
      ]
    },
    {
      "cell_type": "code",
      "metadata": {
        "id": "VftPIWseGxj8",
        "colab": {
          "base_uri": "https://localhost:8080/"
        },
        "outputId": "3aac921d-b54e-4375-a73a-d0544d5c1bbc"
      },
      "source": [
        "#PART D 1.\n",
        "final=[]\n",
        "each=[]\n",
        "state=data1[data1['state']=='Oregon']\n",
        "allcounty=state['county'].unique()\n",
        "allc=list(allcounty)\n",
        "\n",
        "for j in range(len(allc)):\n",
        "  #Aces2017 data\n",
        "  each.append('Oregon')\n",
        "  county2=data2[data2['County']==allc[j]+\" County\"]\n",
        "\n",
        "  county1=data1[data1['county']==allc[j]]\n",
        "  each.append(allc[j])\n",
        "\n",
        "  #Totalcases\n",
        "  cas=county1['cases']\n",
        "  c=cas.sum(axis=0)\n",
        "  \n",
        "  #Dec2020cases\n",
        "  dec=county1[county1['date'].between(\"2020-12-01\",\"2020-12-31\")]\n",
        "  de=dec['cases']\n",
        "  d=de.sum(axis=0)\n",
        "  \n",
        "  #TotalDeaths\n",
        "  dea=county1['deaths']\n",
        "  death=dea.sum(axis=0)\n",
        "  \n",
        "  #Dec2020deaths\n",
        "  dec=county1[county1['date'].between(\"2020-12-01\",\"2020-12-31\")]\n",
        "  de=dec['deaths']\n",
        "  decd=de.sum(axis=0)\n",
        "  \n",
        "  #Total population\n",
        "  tp=county2['TotalPop']\n",
        "  totpop=tp.sum(axis=0)\n",
        "  \n",
        "  #Poverty %\n",
        "  pov=county2['Poverty']\n",
        "  poverty=pov.mean(axis=0)\n",
        "  \n",
        "  #Percapitaincome\n",
        "  income=county2['IncomePerCap']\n",
        "  i=income.mean(axis=0)\n",
        "  \n",
        "  \n",
        "  cases=(c*100000)/totpop\n",
        "  each.append(cases)\n",
        "  each.append(d)\n",
        "  totdeath=(death*100000)/totpop\n",
        "  each.append(totdeath)\n",
        "  each.append(decd)\n",
        "  each.append(totpop)\n",
        "  each.append(poverty)\n",
        "  each.append(i)\n",
        "\n",
        "  final.append(each)\n",
        "  each=[]\n",
        "\n",
        "\n",
        "df4=pd.DataFrame.from_records(final)\n",
        "df4=df4.dropna(axis=0)\n",
        "df4.columns = ['State','County','TotalCases','Dec2020Cases','TotalDeaths','Dec2020Deaths','Population','Poverty','PerCapitaIncome']\n",
        "print(df4)\n"
      ],
      "execution_count": 10,
      "outputs": [
        {
          "output_type": "stream",
          "text": [
            "     State      County    TotalCases  ...  Population    Poverty  PerCapitaIncome\n",
            "0   Oregon  Washington  7.931876e+05  ...     2564646  13.422243     30729.954380\n",
            "1   Oregon     Jackson  7.416558e+05  ...     1722755  18.493882     26107.727059\n",
            "2   Oregon     Klamath  3.396892e+05  ...       66018  18.930000     23712.400000\n",
            "3   Oregon     Douglas  9.380390e+05  ...     1440952  13.097015     33581.874627\n",
            "4   Oregon      Marion  9.534415e+05  ...     2018526  19.951429     24578.778022\n",
            "5   Oregon   Multnomah  4.280168e+05  ...      788459  15.730588     36739.558824\n",
            "6   Oregon   Deschutes  2.908802e+05  ...      175321  12.208333     31834.375000\n",
            "7   Oregon        Linn  7.293391e+05  ...      362932  13.113699     28612.260274\n",
            "8   Oregon        Polk  1.040834e+06  ...     1456426  16.184211     26045.102167\n",
            "9   Oregon    Umatilla  1.217128e+06  ...       76736  16.520000     23200.466667\n",
            "10  Oregon   Clackamas  3.211310e+05  ...      399962   9.320000     37502.712500\n",
            "11  Oregon     Yamhill  3.481869e+05  ...      102366  13.935294     28578.882353\n",
            "12  Oregon      Benton  9.071618e+05  ...      647670  14.231111     29409.385185\n",
            "13  Oregon        Lane  2.367902e+05  ...      365173  18.439080     27571.758621\n",
            "14  Oregon       Grant  9.973480e+05  ...      331216  16.445333     23628.626667\n",
            "15  Oregon       Union  1.165808e+06  ...     1128752  12.091453     31687.132479\n",
            "16  Oregon   Josephine  1.818338e+05  ...       84514  19.131250     24179.062500\n",
            "17  Oregon  Hood River  4.681446e+05  ...       22938  12.150000     29178.000000\n",
            "18  Oregon     Clatsop  2.042713e+05  ...       38021  12.481818     28357.363636\n",
            "19  Oregon     Lincoln  9.994460e+05  ...      596238  14.535172     26656.834483\n",
            "20  Oregon   Tillamook  1.330108e+05  ...       25840  15.437500     25805.750000\n",
            "21  Oregon       Wasco  4.718418e+05  ...       25687  13.037500     25089.750000\n",
            "22  Oregon    Columbia  8.618110e+05  ...      475291  13.003125     29630.302083\n",
            "23  Oregon      Morrow  7.754947e+05  ...       46088  10.825000     24286.875000\n",
            "24  Oregon     Malheur  1.491187e+06  ...       30421  24.414286     17966.428571\n",
            "25  Oregon     Wallowa  1.896416e+05  ...        6864  14.400000     26943.000000\n",
            "26  Oregon       Crook  3.393924e+05  ...       29064  11.683333     27464.666667\n",
            "27  Oregon     Sherman  7.735617e+05  ...       13749  13.220000     28958.000000\n",
            "28  Oregon       Curry  7.464575e+05  ...       72660  20.747059     23559.470588\n",
            "29  Oregon        Coos  1.858439e+05  ...       95040  15.391667     26641.500000\n",
            "30  Oregon   Jefferson  1.081458e+06  ...     3208539  16.088481     29289.780856\n",
            "31  Oregon      Harney  2.366088e+05  ...        7195  16.300000     25174.500000\n",
            "32  Oregon       Baker  1.050432e+06  ...       46768  16.191667     24281.750000\n",
            "33  Oregon        Lake  9.394612e+05  ...     1900172  14.451781     32451.424171\n",
            "34  Oregon     Gilliam  2.456021e+05  ...        1910   9.900000     24178.000000\n",
            "35  Oregon     Wheeler  8.175753e+05  ...       15812  19.850000     20786.833333\n",
            "\n",
            "[36 rows x 9 columns]\n"
          ],
          "name": "stdout"
        },
        {
          "output_type": "stream",
          "text": [
            "/usr/local/lib/python3.7/dist-packages/ipykernel_launcher.py:47: RuntimeWarning: divide by zero encountered in long_scalars\n",
            "/usr/local/lib/python3.7/dist-packages/ipykernel_launcher.py:50: RuntimeWarning: divide by zero encountered in double_scalars\n"
          ],
          "name": "stderr"
        }
      ]
    },
    {
      "cell_type": "code",
      "metadata": {
        "colab": {
          "base_uri": "https://localhost:8080/"
        },
        "id": "eDB1QwZHVtC6",
        "outputId": "b1a597ff-9ad5-4021-80f2-ab36898cbd48"
      },
      "source": [
        "r=[]\n",
        "R1 = df4['TotalCases'].corr(df4['Poverty'])\n",
        "R2 = df4['TotalDeaths'].corr(df4['Poverty'])\n",
        "R3 = df4['TotalCases'].corr(df4['PerCapitaIncome'])\n",
        "R4 = df4['TotalDeaths'].corr(df4['PerCapitaIncome'])\n",
        "R5 = df4['Dec2020Cases'].corr(df4['Poverty'])\n",
        "R6 = df4['Dec2020Deaths'].corr(df4['Poverty'])\n",
        "R7 = df4['Dec2020Cases'].corr(df4['PerCapitaIncome'])\n",
        "R8 = df4['Dec2020Deaths'].corr(df4['PerCapitaIncome'])\n",
        "\n",
        "r.append(R1)\n",
        "r.append(R2)\n",
        "r.append(R3)\n",
        "r.append(R4)\n",
        "r.append(R5)\n",
        "r.append(R6)\n",
        "r.append(R7)\n",
        "r.append(R8)\n",
        "print(r)\n",
        "graph=[]\n",
        "for i in r:\n",
        "  if(i>0.5 or i<-0.5):\n",
        "    graph.append(i)\n",
        "print(graph)"
      ],
      "execution_count": 11,
      "outputs": [
        {
          "output_type": "stream",
          "text": [
            "[0.297471134394528, 0.20946190596896594, -0.18950461546988256, -0.07405908604882054, 0.057059538757632346, 0.05571798839796383, 0.2851092192782961, 0.2664467664558328]\n",
            "[]\n"
          ],
          "name": "stdout"
        }
      ]
    },
    {
      "cell_type": "code",
      "metadata": {
        "colab": {
          "base_uri": "https://localhost:8080/"
        },
        "id": "mJq6hLmWmxz3",
        "outputId": "73bf0587-6d12-47a7-ede7-2c67b054f9bc"
      },
      "source": [
        "#PART D 2.\n",
        "final=[]\n",
        "each=[]\n",
        "\n",
        "allcounty=data1['county'].unique()\n",
        "allc=list(allcounty)\n",
        "\n",
        "for j in range(len(allc)):\n",
        "  #Aces2017 data\n",
        "  county2=data2[data2['County']==allc[j]+\" County\"]\n",
        "\n",
        "  county1=data1[data1['county']==allc[j]]\n",
        "  each.append(allc[j])\n",
        "\n",
        "  #Totalcases\n",
        "  cas=county1['cases']\n",
        "  c=cas.sum(axis=0)\n",
        "  \n",
        "  #Dec2020cases\n",
        "  dec=county1[county1['date'].between(\"2020-12-01\",\"2020-12-31\")]\n",
        "  de=dec['cases']\n",
        "  d=de.sum(axis=0)\n",
        "  \n",
        "  #TotalDeaths\n",
        "  dea=county1['deaths']\n",
        "  death=dea.sum(axis=0)\n",
        "  \n",
        "  #Dec2020deaths\n",
        "  dec=county1[county1['date'].between(\"2020-12-01\",\"2020-12-31\")]\n",
        "  de=dec['deaths']\n",
        "  decd=de.sum(axis=0)\n",
        "  \n",
        "  #Total population\n",
        "  tp=county2['TotalPop']\n",
        "  totpop=tp.sum(axis=0)\n",
        "  \n",
        "  #Poverty %\n",
        "  pov=county2['Poverty']\n",
        "  poverty=pov.mean(axis=0)\n",
        "  \n",
        "  #Percapitaincome\n",
        "  income=county2['IncomePerCap']\n",
        "  i=income.mean(axis=0)\n",
        "  \n",
        "  \n",
        "  cases=(c*100000)/totpop\n",
        "  each.append(cases)\n",
        "  each.append(d)\n",
        "  totdeath=(death*100000)/totpop\n",
        "  each.append(totdeath)\n",
        "  each.append(decd)\n",
        "  each.append(totpop)\n",
        "  each.append(poverty)\n",
        "  each.append(i)\n",
        "\n",
        "  final.append(each)\n",
        "  each=[]\n",
        "\n",
        "\n",
        "df5=pd.DataFrame.from_records(final)\n",
        "df5.columns = ['County','TotalCases','Dec2020Cases','TotalDeaths','Dec2020Deaths','Population','Poverty','PerCapitaIncome']\n",
        "print(df5)\n"
      ],
      "execution_count": 12,
      "outputs": [
        {
          "output_type": "stream",
          "text": [
            "/usr/local/lib/python3.7/dist-packages/ipykernel_launcher.py:46: RuntimeWarning: divide by zero encountered in long_scalars\n",
            "/usr/local/lib/python3.7/dist-packages/ipykernel_launcher.py:49: RuntimeWarning: divide by zero encountered in double_scalars\n",
            "/usr/local/lib/python3.7/dist-packages/ipykernel_launcher.py:49: RuntimeWarning: invalid value encountered in double_scalars\n"
          ],
          "name": "stderr"
        },
        {
          "output_type": "stream",
          "text": [
            "                    County    TotalCases  ...    Poverty  PerCapitaIncome\n",
            "0                Snohomish  4.587665e+05  ...   8.934899     36148.134228\n",
            "1                     Cook  1.180935e+06  ...  17.988948     33006.301287\n",
            "2                   Orange  8.418201e+05  ...  13.075722     35621.433298\n",
            "3                 Maricopa  1.267895e+06  ...  16.130955     30761.265642\n",
            "4              Los Angeles  1.122602e+06  ...  17.323803     31389.413867\n",
            "...                    ...           ...  ...        ...              ...\n",
            "1925             Petroleum  2.445916e+05  ...  10.100000     31549.000000\n",
            "1926  Skagway Municipality           inf  ...        NaN              NaN\n",
            "1927             Esmeralda  2.421053e+05  ...   6.800000     23755.000000\n",
            "1928                Loving  1.297297e+05  ...  17.100000     35530.000000\n",
            "1929               Kalawao  8.488372e+04  ...  12.700000     46024.000000\n",
            "\n",
            "[1930 rows x 8 columns]\n"
          ],
          "name": "stdout"
        }
      ]
    },
    {
      "cell_type": "code",
      "metadata": {
        "colab": {
          "base_uri": "https://localhost:8080/"
        },
        "id": "Ol84jLxFnxHp",
        "outputId": "88a26ebd-3a4b-4c95-f434-e6797a4e6a82"
      },
      "source": [
        "r=[]\n",
        "R1 = df5['TotalCases'].corr(df5['Poverty'])\n",
        "R2 = df5['TotalDeaths'].corr(df5['Poverty'])\n",
        "R3 = df5['TotalCases'].corr(df5['PerCapitaIncome'])\n",
        "R4 = df5['TotalDeaths'].corr(df5['PerCapitaIncome'])\n",
        "R5 = df5['Dec2020Cases'].corr(df5['Poverty'])\n",
        "R6 = df5['Dec2020Deaths'].corr(df5['Poverty'])\n",
        "R7 = df5['Dec2020Cases'].corr(df5['PerCapitaIncome'])\n",
        "R8 = df5['Dec2020Deaths'].corr(df5['PerCapitaIncome'])\n",
        "\n",
        "r.append(R1)\n",
        "r.append(R2)\n",
        "r.append(R3)\n",
        "r.append(R4)\n",
        "r.append(R5)\n",
        "r.append(R6)\n",
        "r.append(R7)\n",
        "r.append(R8)\n",
        "print(r)\n",
        "graph=[]\n",
        "for i in r:\n",
        "  if(i>0.5 or i<-0.5):\n",
        "    graph.append(i)\n",
        "print(graph)"
      ],
      "execution_count": 14,
      "outputs": [
        {
          "output_type": "stream",
          "text": [
            "[0.16690037795100285, 0.199728642737955, -0.1870637430384339, -0.1413631086967846, -0.027528196894307654, -0.02187824035470475, 0.2021547054177172, 0.21840972654694812]\n",
            "[]\n"
          ],
          "name": "stdout"
        }
      ]
    }
  ]
}